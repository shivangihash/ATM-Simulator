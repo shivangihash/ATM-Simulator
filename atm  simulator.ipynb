{
 "cells": [
  {
   "cell_type": "code",
   "execution_count": 4,
   "id": "1f794004-2349-4619-b4e5-d3700354a65e",
   "metadata": {},
   "outputs": [
    {
     "name": "stdin",
     "output_type": "stream",
     "text": [
      "Enter a four digit pin:  9867\n",
      "Re-enter your pin:  9867\n"
     ]
    },
    {
     "name": "stdout",
     "output_type": "stream",
     "text": [
      "Your pin is created successfully!\n",
      "\n",
      "===== ATM Menu =====\n",
      "1. Deposit\n",
      "2. Withdraw\n",
      "3. Check Balance\n",
      "4. Change PIN\n",
      "5. Transaction History (Mini Statement)\n",
      "6. Exit\n"
     ]
    },
    {
     "name": "stdin",
     "output_type": "stream",
     "text": [
      "Enter your choice (1-6):  1\n",
      "Enter your pin no :  9867\n",
      "Enter amount to deposit:  2000\n"
     ]
    },
    {
     "name": "stdout",
     "output_type": "stream",
     "text": [
      "Amount deposited successfully. Your account balance is: 2000.0\n",
      "\n",
      "===== ATM Menu =====\n",
      "1. Deposit\n",
      "2. Withdraw\n",
      "3. Check Balance\n",
      "4. Change PIN\n",
      "5. Transaction History (Mini Statement)\n",
      "6. Exit\n"
     ]
    },
    {
     "name": "stdin",
     "output_type": "stream",
     "text": [
      "Enter your choice (1-6):  2\n",
      "Enter your pin no :  200\n"
     ]
    },
    {
     "name": "stdout",
     "output_type": "stream",
     "text": [
      "Incorrect pin!\n",
      "\n",
      "===== ATM Menu =====\n",
      "1. Deposit\n",
      "2. Withdraw\n",
      "3. Check Balance\n",
      "4. Change PIN\n",
      "5. Transaction History (Mini Statement)\n",
      "6. Exit\n"
     ]
    },
    {
     "name": "stdin",
     "output_type": "stream",
     "text": [
      "Enter your choice (1-6):  5\n"
     ]
    },
    {
     "name": "stdout",
     "output_type": "stream",
     "text": [
      "\n",
      "------- Transaction History (Last 5) -------\n",
      "2025-09-20 00:50:18 | Deposit | Rs.2000.0\n",
      "-------------------------------------------\n",
      "\n",
      "===== ATM Menu =====\n",
      "1. Deposit\n",
      "2. Withdraw\n",
      "3. Check Balance\n",
      "4. Change PIN\n",
      "5. Transaction History (Mini Statement)\n",
      "6. Exit\n"
     ]
    },
    {
     "name": "stdin",
     "output_type": "stream",
     "text": [
      "Enter your choice (1-6):  6\n"
     ]
    },
    {
     "name": "stdout",
     "output_type": "stream",
     "text": [
      "Thank you for using the ATM. Goodbye!\n"
     ]
    }
   ],
   "source": [
    "import datetime\n",
    "\n",
    "class Atm:\n",
    "    def __init__(self, name):\n",
    "        self.name = name\n",
    "        self.pin = self.create_Pin()\n",
    "        self.balance = 0\n",
    "        self.Transaction_history = []\n",
    "\n",
    "    def create_Pin(self):\n",
    "        pin = int(input(\"Enter a four digit pin: \"))\n",
    "        check = int(input(\"Re-enter your pin: \"))\n",
    "        while True:\n",
    "            if pin == check:\n",
    "                print(\"Your pin is created successfully!\")\n",
    "                return pin\n",
    "            else:\n",
    "                print(\"Your pins don't match! Please try again.\")\n",
    "                pin = int(input(\"Enter a four digit pin: \"))\n",
    "                check = int(input(\"Re-enter your pin: \"))\n",
    "\n",
    "    def deposit(self):\n",
    "        check = int(input(\"Enter your pin no : \"))\n",
    "        if check == self.pin:\n",
    "            amount = float(input(\"Enter amount to deposit: \"))\n",
    "            if amount > 0:\n",
    "                self.balance += amount\n",
    "                print(f\"Amount deposited successfully. Your account balance is: {self.balance}\")\n",
    "                self.Transaction_history.append({\n",
    "                    \"type\": \"Deposit\",\n",
    "                    \"amount\": amount,\n",
    "                    \"date_time\": datetime.datetime.now().strftime(\"%Y-%m-%d %H:%M:%S\")\n",
    "                })\n",
    "            else:\n",
    "                print(\"Invalid amount. Please enter a positive number.\")\n",
    "        else:\n",
    "            print(\"Incorrect pin!\")\n",
    "\n",
    "    def check_balance(self):\n",
    "        entered_pin = int(input(\"Enter your pin no : \"))\n",
    "        if entered_pin == self.pin:\n",
    "            print(f\"Your current balance is: {self.balance}\")\n",
    "        else:\n",
    "            print(\"Incorrect pin!\")\n",
    "\n",
    "    def withdraw(self):\n",
    "        cp = int(input(\"Enter your pin no : \"))\n",
    "        if cp == self.pin:\n",
    "            amount = float(input(\"Enter amount to withdraw: \"))\n",
    "            if amount <= self.balance:\n",
    "                self.balance -= amount\n",
    "                print(f\"Amount withdrawn successfully. Your account balance is: {self.balance}\")\n",
    "                self.Transaction_history.append({\n",
    "                    \"type\": \"Withdraw\",\n",
    "                    \"amount\": amount,\n",
    "                    \"date_time\": datetime.datetime.now().strftime(\"%Y-%m-%d %H:%M:%S\")\n",
    "                })\n",
    "            else:\n",
    "                print(\"Insufficient Balance!\")\n",
    "        else:\n",
    "            print(\"Incorrect pin!\")\n",
    "\n",
    "    def change_pin(self):\n",
    "        current_pin = int(input(\"Enter your current pin: \"))\n",
    "        if current_pin == self.pin:\n",
    "            new_pin = int(input(\"Enter a new four digit pin: \"))\n",
    "            confirm_pin = int(input(\"Re-enter your new pin: \"))\n",
    "            if new_pin == confirm_pin:\n",
    "                self.pin = new_pin\n",
    "                print(\"Your pin has been changed successfully.\")\n",
    "            else:\n",
    "                print(\"New pins do not match!\")\n",
    "        else:\n",
    "            print(\"Incorrect current pin!\")\n",
    "\n",
    "    def show_history(self):\n",
    "        print(\"\\n------- Transaction History (Last 5) -------\")\n",
    "        if not self.Transaction_history:\n",
    "            print(\"No Transaction history\")\n",
    "        else:\n",
    "            # Show only last 5\n",
    "            for t in self.Transaction_history[-5:]:\n",
    "                print(f\"{t['date_time']} | {t['type']} | Rs.{t['amount']}\")\n",
    "        print(\"-------------------------------------------\")\n",
    "\n",
    "\n",
    "# ----------- Menu-driven system --------------\n",
    "def atm_menu(account):\n",
    "    while True:\n",
    "        print(\"\\n===== ATM Menu =====\")\n",
    "        print(\"1. Deposit\")\n",
    "        print(\"2. Withdraw\")\n",
    "        print(\"3. Check Balance\")\n",
    "        print(\"4. Change PIN\")\n",
    "        print(\"5. Transaction History (Mini Statement)\")\n",
    "        print(\"6. Exit\")\n",
    "\n",
    "        choice = input(\"Enter your choice (1-6): \")\n",
    "\n",
    "        if choice == \"1\":\n",
    "            account.deposit()\n",
    "        elif choice == \"2\":\n",
    "            account.withdraw()\n",
    "        elif choice == \"3\":\n",
    "            account.check_balance()\n",
    "        elif choice == \"4\":\n",
    "            account.change_pin()\n",
    "        elif choice == \"5\":\n",
    "            account.show_history()\n",
    "        elif choice == \"6\":\n",
    "            print(\"Thank you for using the ATM. Goodbye!\")\n",
    "            break\n",
    "        else:\n",
    "            print(\"Invalid choice. Please try again.\")\n",
    "user1 = Atm(\"Riya Kher\")\n",
    "atm_menu(user1)\n",
    "\n",
    "\n"
   ]
  },
  {
   "cell_type": "code",
   "execution_count": null,
   "id": "1ccb0315-67a2-4afd-8d1d-258a9636b38f",
   "metadata": {},
   "outputs": [],
   "source": []
  }
 ],
 "metadata": {
  "kernelspec": {
   "display_name": "Python 3 (ipykernel)",
   "language": "python",
   "name": "python3"
  },
  "language_info": {
   "codemirror_mode": {
    "name": "ipython",
    "version": 3
   },
   "file_extension": ".py",
   "mimetype": "text/x-python",
   "name": "python",
   "nbconvert_exporter": "python",
   "pygments_lexer": "ipython3",
   "version": "3.13.5"
  }
 },
 "nbformat": 4,
 "nbformat_minor": 5
}
